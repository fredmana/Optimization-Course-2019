{
 "cells": [
  {
   "cell_type": "code",
   "execution_count": 234,
   "metadata": {},
   "outputs": [],
   "source": [
    "import numpy as np\n",
    "from sklearn.datasets import make_sparse_spd_matrix\n",
    "from scipy.sparse import spdiags\n",
    "import matplotlib.pyplot as plt\n",
    "from IPython.display import Math"
   ]
  },
  {
   "cell_type": "markdown",
   "metadata": {},
   "source": [
    "### 1. The efficiency of different iterative methods for solving a linear system."
   ]
  },
  {
   "cell_type": "markdown",
   "metadata": {},
   "source": [
    "1.a Implement programs for the four methods: Jacobi, Gauss-Seidel, Steepest (or Gradient) Descent (SD) and Conjugate Gradient (CG).<br>\n",
    "1.b Use the semilogy() plotting function to plot a convergence graph of $∥A\\textbf{x}^{(k)} − b∥_2$.<br>\n",
    "Also plot the convergence factor $\\frac{∥A\\textbf{x}^{(k)} − b∥_2}\n",
    " {∥A\\textbf{x}^{(k-1)} − b∥_2}$."
   ]
  },
  {
   "cell_type": "code",
   "execution_count": 88,
   "metadata": {},
   "outputs": [],
   "source": [
    "def get_DLU(A):\n",
    "    D = np.diag(np.diag(A))\n",
    "    L = np.tril(A) - D\n",
    "    U = np.triu(A) - D\n",
    "    return D,L,U"
   ]
  },
  {
   "cell_type": "code",
   "execution_count": 235,
   "metadata": {},
   "outputs": [],
   "source": [
    "# Testing DLU function\n",
    "# a = np.array([[1,2,3],[4,5,6],[7,8,9]])\n",
    "# D,L,U = get_DLU(a)\n",
    "# print(\"A:\")\n",
    "# print(a)\n",
    "# print(\"D:\")\n",
    "# print(D)\n",
    "# print(\"L:\")\n",
    "# print(L)\n",
    "# print(\"U:\")\n",
    "# print(U)"
   ]
  },
  {
   "cell_type": "code",
   "execution_count": 156,
   "metadata": {},
   "outputs": [],
   "source": [
    "n=100\n",
    "data = -1*np.ones((3,n))\n",
    "data[1,:] *= -2.1\n",
    "diags = [-1, 0, 1]\n",
    "A = spdiags(data, diags, n, n).toarray()\n",
    "b = np.random.rand(n,1)\n",
    "x = np.zeros((n,1))"
   ]
  },
  {
   "cell_type": "markdown",
   "metadata": {},
   "source": [
    "#### Jacobi (with w=1)"
   ]
  },
  {
   "cell_type": "code",
   "execution_count": 177,
   "metadata": {},
   "outputs": [],
   "source": [
    "def jacobi(A, b, x_0, w, maxIter, epsilon, convergence_criterion):\n",
    "    convergences = []\n",
    "    convergence_factors = []\n",
    "    D,L,U = get_DLU(A)\n",
    "    M_inv = w * np.linalg.inv(D)\n",
    "    x_prev = x_0\n",
    "    convergence_prev = np.linalg.norm(np.dot(A, x_prev) - b)\n",
    "    for k in range(maxIter):\n",
    "        convergences.append(convergence_prev)\n",
    "        r_prev = b - np.dot(A, x_prev)\n",
    "        x_k = x_prev + np.dot(M_inv, r_prev)\n",
    "        convergence = np.linalg.norm(np.dot(A, x_k) - b)\n",
    "        convergence_factor = convergence / convergence_prev\n",
    "        convergence_factors.append(convergence_factor)\n",
    "        if convergence_factor <= convergence_criterion:\n",
    "            break\n",
    "        x_prev = x_k\n",
    "        convergence_prev = convergence\n",
    "    return x_prev, convergences, convergence_factors"
   ]
  },
  {
   "cell_type": "code",
   "execution_count": 178,
   "metadata": {},
   "outputs": [],
   "source": [
    "maxIter = 100\n",
    "epsilon = 0.001\n",
    "convergence_criterion = 0.001\n",
    "w = 1\n",
    "learned_x, jacobi_convergences, jacobi_convergence_factors = jacobi(A, b, x, w, maxIter, epsilon, convergence_criterion)"
   ]
  },
  {
   "cell_type": "code",
   "execution_count": 196,
   "metadata": {},
   "outputs": [
    {
     "data": {
      "text/plain": [
       "[<matplotlib.lines.Line2D at 0x1a16c25710>]"
      ]
     },
     "execution_count": 196,
     "metadata": {},
     "output_type": "execute_result"
    },
    {
     "data": {
      "image/png": "[encoded data removed]",
      "text/plain": [
       "<Figure size 432x288 with 1 Axes>"
      ]
     },
     "metadata": {
      "needs_background": "light"
     },
     "output_type": "display_data"
    }
   ],
   "source": [
    "#jacobi_convergences\n",
    "# w = 3\n",
    "# h = 6\n",
    "# plt.figure(figsize=(w, h))\n",
    "plt.figure()\n",
    "y = jacobi_convergences\n",
    "\n",
    "plt.semilogy(y)\n"
   ]
  },
  {
   "cell_type": "code",
   "execution_count": 197,
   "metadata": {
    "scrolled": true
   },
   "outputs": [
    {
     "data": {
      "text/plain": [
       "[<matplotlib.lines.Line2D at 0x1a16bad1d0>]"
      ]
     },
     "execution_count": 197,
     "metadata": {},
     "output_type": "execute_result"
    },
    {
     "data": {
      "image/png": "[encoded data removed]",
      "text/plain": [
       "<Figure size 432x288 with 1 Axes>"
      ]
     },
     "metadata": {
      "needs_background": "light"
     },
     "output_type": "display_data"
    }
   ],
   "source": [
    "#jacobi_convergence_factors\n",
    "plt.figure()\n",
    "plt.semilogy(jacobi_convergence_factors)\n"
   ]
  },
  {
   "cell_type": "markdown",
   "metadata": {},
   "source": [
    "#### Jacobi (with w=0.75)"
   ]
  },
  {
   "cell_type": "code",
   "execution_count": 201,
   "metadata": {},
   "outputs": [],
   "source": [
    "maxIter = 100\n",
    "epsilon = 0.001\n",
    "convergence_criterion = 0.001\n",
    "w = 0.75\n",
    "learned_x, jacobi_convergences, jacobi_convergence_factors = jacobi(A, b, x, w, maxIter, epsilon, convergence_criterion)"
   ]
  },
  {
   "cell_type": "code",
   "execution_count": 199,
   "metadata": {},
   "outputs": [
    {
     "data": {
      "text/plain": [
       "[<matplotlib.lines.Line2D at 0x1a16f01c50>]"
      ]
     },
     "execution_count": 199,
     "metadata": {},
     "output_type": "execute_result"
    },
    {
     "data": {
      "image/png": "[encoded data removed]",
      "text/plain": [
       "<Figure size 432x288 with 1 Axes>"
      ]
     },
     "metadata": {
      "needs_background": "light"
     },
     "output_type": "display_data"
    }
   ],
   "source": [
    "\n",
    "plt.figure()\n",
    "y = jacobi_convergences\n",
    "\n",
    "plt.semilogy(y)\n"
   ]
  },
  {
   "cell_type": "code",
   "execution_count": 200,
   "metadata": {
    "scrolled": true
   },
   "outputs": [
    {
     "data": {
      "text/plain": [
       "[<matplotlib.lines.Line2D at 0x1a170a1080>]"
      ]
     },
     "execution_count": 200,
     "metadata": {},
     "output_type": "execute_result"
    },
    {
     "data": {
      "image/png": "[encoded data removed]",
      "text/plain": [
       "<Figure size 432x288 with 1 Axes>"
      ]
     },
     "metadata": {
      "needs_background": "light"
     },
     "output_type": "display_data"
    }
   ],
   "source": [
    "#jacobi_convergence_factors\n",
    "plt.figure()\n",
    "plt.semilogy(jacobi_convergence_factors)\n"
   ]
  },
  {
   "cell_type": "markdown",
   "metadata": {},
   "source": [
    "#### Gauss-Seidel"
   ]
  },
  {
   "cell_type": "code",
   "execution_count": 206,
   "metadata": {},
   "outputs": [],
   "source": [
    "def gauss_seidel(A, b, x_0, w, maxIter, epsilon, convergence_criterion):\n",
    "    convergences = []\n",
    "    convergence_factors = []\n",
    "    D,L,U = get_DLU(A)\n",
    "    M_inv = w * np.linalg.inv(w*L + D)\n",
    "    x_prev = x_0\n",
    "    convergence_prev = np.linalg.norm(np.dot(A, x_prev) - b)\n",
    "    for k in range(maxIter):\n",
    "        convergences.append(convergence_prev)\n",
    "        r_prev = b - np.dot(A, x_prev)\n",
    "        x_k = x_prev + np.dot(M_inv, r_prev)\n",
    "        convergence = np.linalg.norm(np.dot(A, x_k) - b)\n",
    "        convergence_factor = convergence / convergence_prev\n",
    "        convergence_factors.append(convergence_factor)\n",
    "        if convergence_factor <= convergence_criterion:\n",
    "            break\n",
    "        x_prev = x_k\n",
    "        convergence_prev = convergence\n",
    "    return x_prev, convergences, convergence_factors"
   ]
  },
  {
   "cell_type": "code",
   "execution_count": 207,
   "metadata": {},
   "outputs": [],
   "source": [
    "maxIter = 100\n",
    "epsilon = 0.001\n",
    "convergence_criterion = 0.001\n",
    "w = 1\n",
    "learned_x, gs_convergences, gs_convergence_factors = gauss_seidel(A, b, x, w, maxIter, epsilon, convergence_criterion)"
   ]
  },
  {
   "cell_type": "code",
   "execution_count": 208,
   "metadata": {},
   "outputs": [
    {
     "data": {
      "text/plain": [
       "[<matplotlib.lines.Line2D at 0x1a17622470>]"
      ]
     },
     "execution_count": 208,
     "metadata": {},
     "output_type": "execute_result"
    },
    {
     "data": {
      "image/png": "[encoded data removed]",
      "text/plain": [
       "<Figure size 432x288 with 1 Axes>"
      ]
     },
     "metadata": {
      "needs_background": "light"
     },
     "output_type": "display_data"
    }
   ],
   "source": [
    "\n",
    "plt.figure()\n",
    "y = gs_convergences\n",
    "\n",
    "plt.semilogy(y)\n"
   ]
  },
  {
   "cell_type": "code",
   "execution_count": 209,
   "metadata": {
    "scrolled": false
   },
   "outputs": [
    {
     "data": {
      "text/plain": [
       "[<matplotlib.lines.Line2D at 0x1a16c4b9b0>]"
      ]
     },
     "execution_count": 209,
     "metadata": {},
     "output_type": "execute_result"
    },
    {
     "data": {
      "image/png": "[encoded data removed]",
      "text/plain": [
       "<Figure size 432x288 with 1 Axes>"
      ]
     },
     "metadata": {
      "needs_background": "light"
     },
     "output_type": "display_data"
    }
   ],
   "source": [
    "plt.figure()\n",
    "plt.semilogy(gs_convergence_factors)\n"
   ]
  },
  {
   "cell_type": "markdown",
   "metadata": {},
   "source": [
    "#### Steepest Descent"
   ]
  },
  {
   "cell_type": "code",
   "execution_count": 228,
   "metadata": {},
   "outputs": [],
   "source": [
    "def steepest_descent(A, b, x_0, maxIter, epsilon, convergence_criterion):\n",
    "    convergences = []\n",
    "    convergence_factors = []\n",
    "    x_prev = x_0\n",
    "    r_prev = b - np.dot(A, x_0)\n",
    "    convergence_prev = np.linalg.norm(np.dot(A, x_prev) - b)\n",
    "    for k in range(maxIter):\n",
    "        convergences.append(convergence_prev)\n",
    "        numerator1 = np.dot(r_prev.T,r_prev)\n",
    "        denominator1 = np.dot(r_prev.T, (np.dot(A, r_prev)))\n",
    "        alpha = numerator1 / denominator1\n",
    "        x_k = x_prev + alpha * r_prev\n",
    "        convergence = np.linalg.norm(np.dot(A, x_k) - b)\n",
    "        convergence_factor = convergence / convergence_prev\n",
    "        convergence_factors.append(convergence_factor)\n",
    "        r_k = r_prev - alpha * np.dot(A, r_prev)\n",
    "        if convergence_factor <= convergence_criterion:\n",
    "            break\n",
    "        x_prev, r_prev = (x_k, r_k)\n",
    "        convergence_prev = convergence\n",
    "    return x_prev, convergences, convergence_factors"
   ]
  },
  {
   "cell_type": "code",
   "execution_count": 230,
   "metadata": {},
   "outputs": [],
   "source": [
    "maxIter = 100\n",
    "epsilon = 0.001\n",
    "convergence_criterion = 0.001\n",
    "learned_x, sd_convergences, sd_convergence_factors = steepest_descent(A, b, x, maxIter, epsilon, convergence_criterion)"
   ]
  },
  {
   "cell_type": "code",
   "execution_count": 231,
   "metadata": {},
   "outputs": [],
   "source": [
    "# learned_r = np.dot(A,learned_x) - b\n",
    "# print(learned_r[:10])\n",
    "# print(learned_x.shape)"
   ]
  },
  {
   "cell_type": "code",
   "execution_count": 232,
   "metadata": {},
   "outputs": [
    {
     "data": {
      "text/plain": [
       "[<matplotlib.lines.Line2D at 0x1a17d16898>]"
      ]
     },
     "execution_count": 232,
     "metadata": {},
     "output_type": "execute_result"
    },
    {
     "data": {
      "image/png": "[encoded data removed]",
      "text/plain": [
       "<Figure size 432x288 with 1 Axes>"
      ]
     },
     "metadata": {
      "needs_background": "light"
     },
     "output_type": "display_data"
    }
   ],
   "source": [
    "\n",
    "plt.figure()\n",
    "y = sd_convergences\n",
    "\n",
    "plt.semilogy(y)\n"
   ]
  },
  {
   "cell_type": "code",
   "execution_count": 233,
   "metadata": {
    "scrolled": true
   },
   "outputs": [
    {
     "data": {
      "text/plain": [
       "[<matplotlib.lines.Line2D at 0x1a17a26c18>]"
      ]
     },
     "execution_count": 233,
     "metadata": {},
     "output_type": "execute_result"
    },
    {
     "data": {
      "image/png": "[encoded data removed]",
      "text/plain": [
       "<Figure size 432x288 with 1 Axes>"
      ]
     },
     "metadata": {
      "needs_background": "light"
     },
     "output_type": "display_data"
    }
   ],
   "source": [
    "#jacobi_convergence_factors\n",
    "plt.figure()\n",
    "plt.semilogy(sd_convergence_factors)\n"
   ]
  },
  {
   "cell_type": "markdown",
   "metadata": {},
   "source": [
    "#### Conjugate Gradient"
   ]
  },
  {
   "cell_type": "code",
   "execution_count": 220,
   "metadata": {},
   "outputs": [],
   "source": [
    "def conjugate_gradient(A, b, x_0, maxIter, epsilon, convergence_criterion):\n",
    "    convergences = []\n",
    "    convergence_factors = []\n",
    "    x_prev = x_0\n",
    "    p_prev = b - np.dot(A, x_0)\n",
    "    r_prev = p_prev\n",
    "    convergence_prev = np.linalg.norm(np.dot(A, x_prev) - b)\n",
    "    for k in range(maxIter):\n",
    "        convergences.append(convergence_prev)\n",
    "        numerator1 = np.dot(r_prev.T,r_prev)\n",
    "        denominator1 = np.dot(p_prev.T, (np.dot(A, p_prev)))\n",
    "        alpha = numerator1 / denominator1\n",
    "        x_k = x_prev + alpha * p_prev\n",
    "        convergence = np.linalg.norm(np.dot(A, x_k) - b)\n",
    "        convergence_factor = convergence / convergence_prev\n",
    "        convergence_factors.append(convergence_factor)\n",
    "        r_k = r_prev - alpha * np.dot(A, p_prev)\n",
    "        if convergence_factor <= convergence_criterion:\n",
    "            break\n",
    "        numerator2 = np.dot(r_k.T,r_k)\n",
    "        denominator2 = numerator1\n",
    "        beta = numerator2 / denominator2\n",
    "        p_k = r_k + beta * p_prev\n",
    "        x_prev, p_prev, r_prev = (x_k, p_k, r_k)\n",
    "        convergence_prev = convergence\n",
    "    return x_prev, convergences, convergence_factors"
   ]
  },
  {
   "cell_type": "code",
   "execution_count": 221,
   "metadata": {},
   "outputs": [],
   "source": [
    "maxIter = 100\n",
    "epsilon = 0.001\n",
    "convergence_criterion = 0.001\n",
    "learned_x, cg_convergences, cg_convergence_factors = conjugate_gradient(A, b, x, maxIter, epsilon, convergence_criterion)"
   ]
  },
  {
   "cell_type": "code",
   "execution_count": 226,
   "metadata": {},
   "outputs": [],
   "source": [
    "# learned_r = np.dot(A,learned_x) - b\n",
    "# print(learned_r[:10])\n",
    "# print(learned_x.shape)"
   ]
  },
  {
   "cell_type": "code",
   "execution_count": 224,
   "metadata": {},
   "outputs": [
    {
     "data": {
      "text/plain": [
       "[<matplotlib.lines.Line2D at 0x1a179a9240>]"
      ]
     },
     "execution_count": 224,
     "metadata": {},
     "output_type": "execute_result"
    },
    {
     "data": {
      "image/png": "[encoded data removed]",
      "text/plain": [
       "<Figure size 432x288 with 1 Axes>"
      ]
     },
     "metadata": {
      "needs_background": "light"
     },
     "output_type": "display_data"
    }
   ],
   "source": [
    "\n",
    "plt.figure()\n",
    "y = cg_convergences\n",
    "\n",
    "plt.semilogy(y)\n"
   ]
  },
  {
   "cell_type": "code",
   "execution_count": 225,
   "metadata": {
    "scrolled": true
   },
   "outputs": [
    {
     "data": {
      "text/plain": [
       "[<matplotlib.lines.Line2D at 0x1a17b1d2b0>]"
      ]
     },
     "execution_count": 225,
     "metadata": {},
     "output_type": "execute_result"
    },
    {
     "data": {
      "image/png": "[encoded data removed]",
      "text/plain": [
       "<Figure size 432x288 with 1 Axes>"
      ]
     },
     "metadata": {
      "needs_background": "light"
     },
     "output_type": "display_data"
    }
   ],
   "source": [
    "#jacobi_convergence_factors\n",
    "plt.figure()\n",
    "plt.semilogy(cg_convergence_factors)\n"
   ]
  },
  {
   "cell_type": "code",
   "execution_count": 227,
   "metadata": {},
   "outputs": [],
   "source": [
    "# (np.dot(A,learned_x) - b)[:10]\n",
    "# learned_x.shape"
   ]
  },
  {
   "cell_type": "markdown",
   "metadata": {},
   "source": [
    "### 2. Convergence properties"
   ]
  },
  {
   "cell_type": "markdown",
   "metadata": {},
   "source": [
    "Throughout this section we will use the fact that if $A$ is SPD then $A^{-1}$ is also SPD, and if $\\lambda$ is an eigenvalue of $A$ then $\\frac{1}{\\lambda}$ is an eigenvalue of $A^{-1}$.<br>\n",
    "proof:<br>\n",
    "a. $A^{-1}$ is symetric: $(A^{-1})^\\top = (A^\\top)^{-1} = A^{-1}$.<br>\n",
    "b. $A^{-1}$ is PD: If $v$ is an eigenvector of $A$ then we have:<br>\n",
    "$Av = \\lambda v \\Rightarrow A^{-1}Av = \\lambda A^{-1}v \\Rightarrow \\frac{1}{\\lambda}v = A^{-1}v$. So all of $A^{-1}$ eigenvalues are also positive and so $A^{-1}$ is PD.<br>\n",
    "What this means is that $\\lambda_{max\\{A^{-1}\\}}$ is $\\frac{1}{\\lambda_{min\\{A\\}}}$, and that $\\lambda_{min\\{A^{-1}\\}}$ is $\\frac{1}{\\lambda_{max\\{A\\}}}$."
   ]
  },
  {
   "cell_type": "markdown",
   "metadata": {},
   "source": [
    "#### (a) Show that for any symmetric positive definite matrix $A ∈ R^{n\\times n}$, the Richardson method $\\textbf{x}^{(k+1)} = \\textbf{x}^{(k)} + \\frac{1}{∥A∥}(\\textbf{b} - A\\textbf{x}^{(k)})$, converges to the solution of $Ax = b$, where $∥ · ∥$ is any induced matrix norm.\n",
    "<br>Answer:"
   ]
  },
  {
   "cell_type": "markdown",
   "metadata": {},
   "source": [
    "In order to prove convergence of the method we learned that it is enough to show that: $\\rho(I-M^{-1}A) = \\rho(I-\\frac{1}{∥A∥}A) \\leq 1$.<br>\n",
    "Let $T := I-\\frac{1}{∥A∥}A$.<br>\n",
    "Let $v_i$ be an eigenvector of $A$ and $\\lambda_i$ its corresponding eigenvalue. Then $v_i$ is an eigenvector of $T$ and its corresponding eigenvalue is $(1-∥A∥^{-1}\\lambda_i)$.<br>\n",
    "Proof: $Tv_i = (I-\\frac{1}{∥A∥}A)v_i = v_i-\\frac{1}{∥A∥}Av_i = v_i-\\frac{1}{∥A∥}\\lambda_iv_i = (1-∥A∥^{-1}\\lambda_i)v_i$.<br>\n",
    "We are looking for $\\rho(T)$, which is $T$'s biggest eigenvalue.<br>\n",
    "$(1-∥A∥^{-1}\\lambda_i)$ will be maximal when we use $\\lambda_i = \\lambda_{min}$.<br>\n",
    "So we need to show that $\\rho(T) = (1-∥A∥^{-1}\\lambda_{min}) < 1$.<br>\n",
    "Since we know that $∥A∥ > \\rho(A) = \\lambda_{max}$, then $∥A∥ > \\lambda_{min}$, and since all eigenvalues of an SPD matrix are positive, we get that $0<\\frac{\\lambda_{min}}{∥A∥}<1$.<br>\n",
    "And finally:<br>\n",
    "$\\rho(T) = (1-\\frac{\\lambda_{min}}{∥A∥}) < 1-\\frac{\\lambda_{min}}{\\lambda_{max}} < 1$."
   ]
  },
  {
   "cell_type": "markdown",
   "metadata": {},
   "source": [
    "#### <br>(b) Show that if $A$ in the previous section is indefinite (has both positive and negative eigenvalues), then the Richardson method diverges.\n",
    "<br>Answer:"
   ]
  },
  {
   "cell_type": "markdown",
   "metadata": {},
   "source": [
    "Since A has both positive and negative eigenvalues, we can induce that $\\lambda_{max}=\\rho(A)>0$ and that $\\lambda_{min} < 0$, and since $∥A∥ > \\rho(A)$ then it is also positive, and so we get:<br>\n",
    "$\\rho(T) = (1-\\frac{\\lambda_{min}}{∥A∥}) > 1$."
   ]
  },
  {
   "cell_type": "markdown",
   "metadata": {},
   "source": [
    "#### (c) We will now prove the convergence of Steepest Descent with optimal choice of $α^{(k)} = α_{opt}$ as shown in Section 4.3.2 in the NLA notes."
   ]
  },
  {
   "cell_type": "markdown",
   "metadata": {},
   "source": [
    "#### i. Show that (recall: $A ≻ 0$) $f(x^{(k+1)})=f(x^{(k)})−\\frac{1}{2}\\frac{⟨r^{(k)},Ae^{(k)}⟩^2}{⟨r^{(k)},Ar^{(k)}⟩}<f(x^{(k)})$, where $f(x) = \\frac{1}{2}∥x^∗−x∥^2_A$ , defined in Eq. 17 in the notes. The strict inequality holds as long as that $r^{(k)}\\neq0$.\n",
    "<br>Answer:"
   ]
  },
  {
   "cell_type": "markdown",
   "metadata": {},
   "source": [
    "We know that:<br>\n",
    "\n",
    "$1. x^{(k+1)} = \n",
    "x^{(k)}+\\alpha^{(k)}_{opt}(b-Ax) \\Rightarrow e^{(k+1)} = \n",
    "e^{(k)}-\\alpha^{(k)}_{opt}(r^{(k)})$<br>\n",
    "\n",
    "$2. f(x^{(k)}) = \n",
    "\\frac{1}{2}∥x^∗−x^{(k)}∥^2_A = \n",
    "\\frac{1}{2}∥e^{(k)}∥^2_A = \n",
    "\\frac{1}{2}\\langle e^{(k)},Ae^{(k)}\\rangle$.<br><br>\n",
    "\n",
    "$f(x^{(k+1)}) = \n",
    "\\frac{1}{2}∥e^{(k)}-\\alpha^{(k)}_{opt}(r^{(k)})∥^2_A = \n",
    "\\frac{1}{2}\\langle e^{(k)},Ae^{(k)}\\rangle - \\alpha\\langle e^{(k)},Ar^{(k)}\\rangle + \\frac{1}{2}\\alpha^2\\langle r^{(k)},Ar^{(k)}\\rangle =$\n",
    "\n",
    "$= f(x^{(k)}) - \\frac{\\langle e^{(k)}, r^{(k)}\\rangle_A}{\\langle r^{(k)}, r^{(k)}\\rangle_A}\\langle e^{(k)}, r^{(k)}\\rangle_A + \\frac{1}{2} \\frac{\\langle e^{(k)}, r^{(k)}\\rangle^2_A}{\\langle r^{(k)}, r^{(k)}\\rangle^2_A}\\langle r^{(k)}, r^{(k)}\\rangle_A$<br>\n",
    "\n",
    "$\\Rightarrow f(x^{(k+1)}) = \n",
    "f(x^{(k)})-\\frac{1}{2} \\frac{\\langle e^{(k)}, r^{(k)}\\rangle^2_A}{\\langle r^{(k)}, r^{(k)}\\rangle_A} = \n",
    "f(x^{(k)})-\\frac{1}{2} \\frac{\\langle r^{(k)}, r^{(k)}\\rangle^2}{\\langle r^{(k)}, r^{(k)}\\rangle_A}$<br>\n",
    "Since A is an SPD matrix (and assuming that the residual vector in the k'th iteration isn't zero yet) then the fraction we are removing from $f(x^{(k)})$ is positive, and so $f(x^{(k+1)}) < f(x^{(k)})$.<br>"
   ]
  },
  {
   "cell_type": "markdown",
   "metadata": {},
   "source": [
    "#### ii. Using the previous section, find a scalar factor $C^{(k)}$ such that $f(x^{(k+1)}) = C^{(k)} · f(x^{(k)})$ where $C^{(k)} < 1$.<br>\n",
    "Answer:"
   ]
  },
  {
   "cell_type": "markdown",
   "metadata": {},
   "source": [
    "Based on the previous section we get:<br>\n",
    "\n",
    "$f(x^{(k+1)}) = \n",
    "f(x^{(k)})\\cdot(1-\\frac{1}{2f(x^{(k)})} \\frac{\\langle e^{(k)}, r^{(k)}\\rangle^2_A}{\\langle r^{(k)}, r^{(k)}\\rangle_A})$.\n",
    "\n",
    "So we take $C = (1-\\frac{1}{2f(x^{(k)})} \\frac{\\langle e^{(k)}, r^{(k)}\\rangle^2_A}{\\langle r^{(k)}, r^{(k)}\\rangle_A})$<br>\n",
    "Since $f(x^{(k)})$ is positive (since it is a A-norm and A is SPD) and based on the previous section we have agin that the fraction in $C$ is positive and thus $C < 1$. <br>"
   ]
  },
  {
   "cell_type": "markdown",
   "metadata": {},
   "source": [
    "#### iii. Now, using the fact that for every symmetric matrix $A ∈ R^{n×n}: ∀v∈R^n :λ_{min} ≤ \\frac{v^⊤Av}{v^⊤v} ≤ λ_{max}$, (this is called a Rayleigh quotient) show that $C^{(k)} ≤ 1 − \\frac{λ_{min}}{λ_{max}} < 1$.<br>\n",
    "\n",
    "Answer:"
   ]
  },
  {
   "cell_type": "markdown",
   "metadata": {},
   "source": [
    "Since $A$ is SPD then every $\\lambda > 0$ and thus $\\frac{λ_{min}}{λ_{max}} > 0$. Therefor it is clear that $1-\\frac{λ_{min}}{λ_{max}} < 1$.<br>\n",
    "We now just need to prove that $C^{(k)} ≤ 1 − \\frac{λ_{min}}{λ_{max}}$, which means that $\\frac{λ_{min}}{λ_{max}} \\leq 1-C^{(k)}$.\n"
   ]
  },
  {
   "cell_type": "markdown",
   "metadata": {},
   "source": [
    "$1-C^{(k)} = 1-1+\\frac{1}{2f(x^{(k)})} \\frac{\\langle e^{(k)}, r^{(k)}\\rangle^2_A}{\\langle r^{(k)}, r^{(k)}\\rangle_A}=\n",
    "\\frac{2\\langle r^{(k)}, r^{(k)}\\rangle^2}{2\\langle e^{(k)}, Ae^{(k)}\\rangle\\langle r^{(k)}, r^{(k)}\\rangle_A}=\n",
    "\\frac{\\langle r^{(k)}, r^{(k)}\\rangle}{\\langle e^{(k)}, r^{(k)}\\rangle}\\cdot\\frac{\\langle r^{(k)}, r^{(k)}\\rangle}{\\langle r^{(k)}, Ar^{(k)}\\rangle}\\geq$<br>\n",
    "\n",
    "$\\geq \\frac{\\langle r^{(k)}, r^{(k)}\\rangle}{\\langle A^{-1}Ae^{(k)}, r^{(k)}\\rangle}\\cdot \\lambda_{min}=\n",
    "\\frac{\\langle r^{(k)}, r^{(k)}\\rangle}{\\langle A^{-1}r^{(k)}, r^{(k)}\\rangle}\\cdot \\lambda_{min}=\n",
    "\\frac{\\langle r^{(k)}, r^{(k)}\\rangle}{\\langle r^{(k)}, A^{-1}r^{(k)}\\rangle}\\cdot \\lambda_{min}\\geq\n",
    "\\frac{1}{\\lambda_{max}}\\cdot\\lambda_{min}$\n",
    "\n",
    "$\\Rightarrow 1-C^{(k)} \\geq \\frac{\\lambda_{min}}{\\lambda_{max}}$.<br>"
   ]
  },
  {
   "cell_type": "markdown",
   "metadata": {},
   "source": [
    "#### iv. Conclude that SD converges: $lim_{k→∞}f(x^{(k)}) = 0$, and hence $lim_{k→∞} x^{(k)} = x^∗ $.<br>\n",
    "\n",
    "Answer:"
   ]
  },
  {
   "cell_type": "markdown",
   "metadata": {},
   "source": [
    "Based on the previous sections:<br>\n",
    "$f(x^{(k)}) = \n",
    "C^{(k-1)}\\cdot f(x^{(k-1)}) =\n",
    "C^{(k-1)}\\cdot C^{(k-2)}\\cdot f(x^{(k-2)}) = ... = $\n",
    "$= C^{(k-1)}\\cdot C^{(k-2)}\\cdots C^{(0)}\\cdot f(x^{(0)})$<br>\n",
    "Let $C^{i}_{max}$ be the $C$ in the iteration which got the highest value. We get that:<br>\n",
    "$f(x^{(k)}) \\leq {C^{(i)}}^k\\cdot f(x^{(0)})$.<br>\n",
    "Since $C^{(i)} < 1$ then $lim_{k→∞} {C^{(i)}}^k =0$ and therefore $lim_{k→∞}f(x^{(k)})= 0$ and hence $lim_{k→∞} x^{(k)} = x^∗ $..<br>"
   ]
  },
  {
   "cell_type": "markdown",
   "metadata": {},
   "source": [
    "### 3. In this question we will develop a method called GMRES(1). Assume that $A ∈ R^{n×n}$ is full rank, positive definite, but non-symmetric. We want to solve a linear system Ax = b using a method that is similar to Steepest Descent (SD). We define $x^{(k+1)} = x^{(k)} + α^{(k)}(b − Ax^{(k)})$, and we choose $α^{(k)}$ to minimize the residual norm $∥r^{(k+1)}∥_2$ with respect to $α^{(k)}$."
   ]
  },
  {
   "cell_type": "markdown",
   "metadata": {},
   "source": [
    "#### (a) Show that $α^{(k)} = \\frac{(r^{(k)})^⊤Ar^{(k)}}{(r^{(k)})^⊤A^⊤Ar^{(k)}} $.<br>\n",
    "\n",
    "Answer:"
   ]
  },
  {
   "cell_type": "markdown",
   "metadata": {},
   "source": [
    "we would like to minimize the residual norm via the following function:<br>\n",
    "\n",
    "$f_r(x^{(k)}) := \\frac{1}{2}∥r^{(k)}∥_2^2 = \\frac{1}{2}∥b-Ax^{(k)}∥_2^2$.<br>\n",
    "\n",
    "Now we would like to minimize the following function for $\\alpha$:<br>\n",
    "\n",
    "$g_r(\\alpha) := f_r(x^{(k)}+\\alpha r^{(k)}) =\n",
    "\\frac{1}{2}∥b-A(x^{(k)}+\\alpha r^{(k)})∥_2^2 =\n",
    "\\frac{1}{2}∥b-Ax^{(k)}+A\\alpha r^{(k)}∥_2^2 =$\n",
    "\n",
    "$=\\frac{1}{2}∥r^{(k)}+\\alpha Ar^{(k)}∥_2^2 =\n",
    "\\frac{1}{2}\\langle r^{(k)},r^{(k)}\\rangle -\\alpha\\langle r^{(k)},Ar^{(k)}\\rangle + \\frac{1}{2}\\alpha^2\\langle Ar^{(k)},Ar^{(k)}\\rangle$\n",
    "\n",
    "$\\nabla g_r(\\alpha) = 0 \\Rightarrow -\\langle r^{(k)},Ar^{(k)}\\rangle + \\alpha\\langle Ar^{(k)},Ar^{(k)}\\rangle = 0$\n",
    "\n",
    "$\\Rightarrow \\alpha = \\frac{\\langle r^{(k)},Ar^{(k)}\\rangle}{\\langle Ar^{(k)},Ar^{(k)}\\rangle} = \n",
    "\\frac{(r^{(k)})^⊤Ar^{(k)}}{(r^{(k)})^⊤A^⊤Ar^{(k)}}$\n"
   ]
  },
  {
   "cell_type": "markdown",
   "metadata": {},
   "source": [
    "#### (c) Demonstrate the convergence of the GMRES method"
   ]
  },
  {
   "cell_type": "code",
   "execution_count": 264,
   "metadata": {},
   "outputs": [],
   "source": [
    "A = np.row_stack(([5, 4, 4, -1, 0],[3, 12, 4, -5, -5],[-4, 2, 6, 0, 3],[4, 5, -7, 10, 2],[1, 2, 5, 3, 10]))\n",
    "b = np.ones((5,1))\n",
    "x_0 = np.zeros((5,1))"
   ]
  },
  {
   "cell_type": "code",
   "execution_count": 267,
   "metadata": {},
   "outputs": [],
   "source": [
    "residuals = []\n",
    "x_prev = x_0\n",
    "iters = 50\n",
    "for k in range(1,iters+1):\n",
    "    r_prev = b - np.dot(A, x_prev)\n",
    "    r_norm_prev = np.linalg.norm(r_prev)\n",
    "    residuals.append(r_norm_prev)\n",
    "    \n",
    "    numerator = np.dot(r_prev.T, (np.dot(A, r_prev)))\n",
    "    denominator = np.dot(np.dot(r_prev.T,A.T), (np.dot(A, r_prev)))\n",
    "    alpha = numerator / denominator\n",
    "    \n",
    "    x_k = x_prev + alpha * r_prev\n",
    "    x_prev = x_k"
   ]
  },
  {
   "cell_type": "code",
   "execution_count": 268,
   "metadata": {},
   "outputs": [
    {
     "data": {
      "text/plain": [
       "[<matplotlib.lines.Line2D at 0x1a17f862b0>]"
      ]
     },
     "execution_count": 268,
     "metadata": {},
     "output_type": "execute_result"
    },
    {
     "data": {
      "image/png": "[encoded data removed]",
      "text/plain": [
       "<Figure size 432x288 with 1 Axes>"
      ]
     },
     "metadata": {
      "needs_background": "light"
     },
     "output_type": "display_data"
    }
   ],
   "source": [
    "\n",
    "plt.figure()\n",
    "y = residuals\n",
    "\n",
    "plt.semilogy(y)\n"
   ]
  },
  {
   "cell_type": "markdown",
   "metadata": {},
   "source": [
    "#### (d) The graph that you get in the previous subsection is monotone. Explain why?<br>\n",
    "\n",
    "Answer:"
   ]
  },
  {
   "cell_type": "markdown",
   "metadata": {},
   "source": [
    "We know that the $g_r(\\alpha)$ function (which uses $x^{(k)}$ for its calculations) is the squared $l2$ norm of the residual at iteration $(k+1)$ since:<br>\n",
    "$g_r(\\alpha) := f_r(x^{(k)}+\\alpha r^{(k)}) =\n",
    "\\frac{1}{2}∥b-A(x^{(k)}+\\alpha r^{(k)})∥_2^2 =\n",
    "\\frac{1}{2}∥b-Ax^{(k+1)}∥_2^2 =\n",
    "\\frac{1}{2}∥r^{(k+1)}∥_2^2$.<br>\n",
    "Thus, minimizing the $\\alpha$ at each iteration means we are finding the optimal $\\alpha$ for minimizing the residual norm at each iteration. Since the residual norm as a convex function (can easily be inferred by the answer to 4.b) then at every iteration we are getting closer to the global minimum in a monotonic fasion.<br>"
   ]
  },
  {
   "cell_type": "markdown",
   "metadata": {},
   "source": [
    "#### (e) Explicitly define the method GMRES(2):<br>$x^{(k+1)}=x^{(k)}+\\alpha_1^{(k)} r^{(k)}+\\alpha_2^{(k)} r^{(k-1)}$.<br>In vector form this will be $x^{(k+1)}=x^{(k)}+R^{(k)}\\overrightarrow{\\alpha}^{(k)}$, where $R$ is a $n\\times 2$ matrix.<br>Find a closed form for $\\overrightarrow{\\alpha}$.<br>\n",
    "\n",
    "Answer:"
   ]
  },
  {
   "cell_type": "markdown",
   "metadata": {},
   "source": [
    "We'll define $f_{r_2}(x^{(k)}) := f_r(x^{(k)})$, where $f_r(x^{(k)})$ was defined in the previous paragraphs.<br>\n",
    "Let $g_{r_2}(\\overrightarrow{\\alpha}^{(k)}) := \n",
    "f_{r_2}(x^{(k)}+R^{(k)}\\overrightarrow{\\alpha}^{(k)}) =\n",
    "\\frac{1}{2}∥b-A(x^{(k)}+R^{(k)}\\overrightarrow{\\alpha}^{(k)})∥_2^2 =$<br>\n",
    "$=\\frac{1}{2}∥b-Ax^{(k)}-AR^{(k)}\\overrightarrow{\\alpha}^{(k)}∥_2^2 =\n",
    "\\frac{1}{2}∥r^{(k)}-AR^{(k)}\\overrightarrow{\\alpha}^{(k)}∥_2^2 =$<br>\n",
    "$=\\frac{1}{2}r^{{(k)}^\\top}r^{(k)}-r^{{(k)}^\\top}AR^{(k)}\\overrightarrow{\\alpha}^{(k)}+\\frac{1}{2}\\overrightarrow{\\alpha}^{{(k)}^\\top}R^{{(k)}^\\top} A^\\top AR^{(k)}\\overrightarrow{\\alpha}$.<br>\n",
    "\n",
    "$\\nabla g_{r_{2}}(\\overrightarrow{\\alpha}^{(k)}) = 0 \\Rightarrow -R^{{(k)}^\\top} A^\\top r^{(k)} + R^{{(k)}^\\top} A^\\top AR^{(k)}\\overrightarrow{\\alpha}^{(k)} = 0$\n",
    "\n",
    "$\\Rightarrow \\overrightarrow{\\alpha}^{(k)} = (R^{{(k)}^\\top} A^\\top AR^{(k)})^{-1}R^{{(k)}^\\top} A^\\top r^{(k)}$.<br><br>\n",
    "\n",
    "(If $(R^{{(k)}^\\top} A^\\top AR^{(k)})^{-1}$ isn't defined, we'll just take the pseudo-inverse)."
   ]
  },
  {
   "cell_type": "code",
   "execution_count": null,
   "metadata": {},
   "outputs": [],
   "source": []
  }
 ],
 "metadata": {
  "kernelspec": {
   "display_name": "Python 3",
   "language": "python",
   "name": "python3"
  },
  "language_info": {
   "codemirror_mode": {
    "name": "ipython",
    "version": 3
   },
   "file_extension": ".py",
   "mimetype": "text/x-python",
   "name": "python",
   "nbconvert_exporter": "python",
   "pygments_lexer": "ipython3",
   "version": "3.6.6"
  }
 },
 "nbformat": 4,
 "nbformat_minor": 2
}
